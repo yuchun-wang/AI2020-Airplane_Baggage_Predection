{
 "cells": [
  {
   "cell_type": "code",
   "execution_count": 1,
   "metadata": {},
   "outputs": [],
   "source": [
    "import tensorflow as tf\n",
    "import pandas as pd\n",
    "import time\n",
    "from matplotlib import pyplot as plt\n",
    "from sklearn.model_selection import train_test_split"
   ]
  },
  {
   "cell_type": "code",
   "execution_count": 2,
   "metadata": {},
   "outputs": [],
   "source": [
    "#dataset1 (Exclude Obd_Cbn_Cls_Cd)\n",
    "#read data from preprocessing\n",
    "data = pd.read_csv('data_test.csv')\n",
    "\n",
    "#save y min & max\n",
    "normal_y = data['Bag_Wt_Msr']\n",
    "y_min =  normal_y.min()\n",
    "y_max = normal_y.max() \n",
    "\n",
    "#normalize\n",
    "normalize = data[['Bag_Wt_Msr', 'Adult F', 'Adult M', 'Child F', 'Child M', 'Infant F', 'Infant M']]\n",
    "data_normalize = data\n",
    "data_normalize[['Bag_Wt_Msr', 'Adult F', 'Adult M', 'Child F', 'Child M', 'Infant F', 'Infant M']] = (normalize - normalize.min()) / (normalize.max() - normalize.min())\n",
    "tmp = data_normalize.pop('Bag_Wt_Msr')\n",
    "data_normalize['Bag_Wt_Msr'] = tmp\n",
    "\n",
    "#split data\n",
    "x, y = data_normalize.iloc[:, 1:-1], data_normalize.iloc[:, -1]\n",
    "x_train, x_test, y_train, y_test = train_test_split(x, y, test_size = 0.1, random_state = 0)"
   ]
  },
  {
   "cell_type": "code",
   "execution_count": 8,
   "metadata": {},
   "outputs": [
    {
     "data": {
      "text/html": [
       "<div>\n",
       "<style scoped>\n",
       "    .dataframe tbody tr th:only-of-type {\n",
       "        vertical-align: middle;\n",
       "    }\n",
       "\n",
       "    .dataframe tbody tr th {\n",
       "        vertical-align: top;\n",
       "    }\n",
       "\n",
       "    .dataframe thead th {\n",
       "        text-align: right;\n",
       "    }\n",
       "</style>\n",
       "<table border=\"1\" class=\"dataframe\">\n",
       "  <thead>\n",
       "    <tr style=\"text-align: right;\">\n",
       "      <th></th>\n",
       "      <th>Dep_Season</th>\n",
       "      <th>Acft_Typ_Cd</th>\n",
       "      <th>Adult F</th>\n",
       "      <th>Adult M</th>\n",
       "      <th>Child F</th>\n",
       "      <th>Child M</th>\n",
       "      <th>Infant F</th>\n",
       "      <th>Infant M</th>\n",
       "      <th>Dep_Apt_Cd</th>\n",
       "      <th>Arr_Apt_Cd</th>\n",
       "    </tr>\n",
       "  </thead>\n",
       "  <tbody>\n",
       "    <tr>\n",
       "      <th>2979</th>\n",
       "      <td>1</td>\n",
       "      <td>0</td>\n",
       "      <td>0.397849</td>\n",
       "      <td>0.277193</td>\n",
       "      <td>0.000000</td>\n",
       "      <td>0.065217</td>\n",
       "      <td>0.000000</td>\n",
       "      <td>0.142857</td>\n",
       "      <td>11</td>\n",
       "      <td>0</td>\n",
       "    </tr>\n",
       "    <tr>\n",
       "      <th>2033</th>\n",
       "      <td>0</td>\n",
       "      <td>0</td>\n",
       "      <td>0.435484</td>\n",
       "      <td>0.375439</td>\n",
       "      <td>0.227273</td>\n",
       "      <td>0.195652</td>\n",
       "      <td>0.142857</td>\n",
       "      <td>0.142857</td>\n",
       "      <td>0</td>\n",
       "      <td>5</td>\n",
       "    </tr>\n",
       "    <tr>\n",
       "      <th>2215</th>\n",
       "      <td>0</td>\n",
       "      <td>0</td>\n",
       "      <td>0.569892</td>\n",
       "      <td>0.259649</td>\n",
       "      <td>0.250000</td>\n",
       "      <td>0.391304</td>\n",
       "      <td>0.142857</td>\n",
       "      <td>0.142857</td>\n",
       "      <td>3</td>\n",
       "      <td>0</td>\n",
       "    </tr>\n",
       "    <tr>\n",
       "      <th>2840</th>\n",
       "      <td>1</td>\n",
       "      <td>1</td>\n",
       "      <td>0.198925</td>\n",
       "      <td>0.368421</td>\n",
       "      <td>0.000000</td>\n",
       "      <td>0.000000</td>\n",
       "      <td>0.000000</td>\n",
       "      <td>0.000000</td>\n",
       "      <td>0</td>\n",
       "      <td>2</td>\n",
       "    </tr>\n",
       "    <tr>\n",
       "      <th>446</th>\n",
       "      <td>0</td>\n",
       "      <td>1</td>\n",
       "      <td>0.376344</td>\n",
       "      <td>0.207018</td>\n",
       "      <td>0.159091</td>\n",
       "      <td>0.260870</td>\n",
       "      <td>0.142857</td>\n",
       "      <td>0.000000</td>\n",
       "      <td>0</td>\n",
       "      <td>3</td>\n",
       "    </tr>\n",
       "    <tr>\n",
       "      <th>...</th>\n",
       "      <td>...</td>\n",
       "      <td>...</td>\n",
       "      <td>...</td>\n",
       "      <td>...</td>\n",
       "      <td>...</td>\n",
       "      <td>...</td>\n",
       "      <td>...</td>\n",
       "      <td>...</td>\n",
       "      <td>...</td>\n",
       "      <td>...</td>\n",
       "    </tr>\n",
       "    <tr>\n",
       "      <th>4931</th>\n",
       "      <td>1</td>\n",
       "      <td>0</td>\n",
       "      <td>0.731183</td>\n",
       "      <td>0.470175</td>\n",
       "      <td>0.204545</td>\n",
       "      <td>0.260870</td>\n",
       "      <td>0.142857</td>\n",
       "      <td>0.428571</td>\n",
       "      <td>0</td>\n",
       "      <td>1</td>\n",
       "    </tr>\n",
       "    <tr>\n",
       "      <th>3264</th>\n",
       "      <td>1</td>\n",
       "      <td>0</td>\n",
       "      <td>0.720430</td>\n",
       "      <td>0.421053</td>\n",
       "      <td>0.227273</td>\n",
       "      <td>0.086957</td>\n",
       "      <td>0.142857</td>\n",
       "      <td>0.000000</td>\n",
       "      <td>11</td>\n",
       "      <td>0</td>\n",
       "    </tr>\n",
       "    <tr>\n",
       "      <th>1653</th>\n",
       "      <td>0</td>\n",
       "      <td>1</td>\n",
       "      <td>0.252688</td>\n",
       "      <td>0.084211</td>\n",
       "      <td>0.136364</td>\n",
       "      <td>0.130435</td>\n",
       "      <td>0.000000</td>\n",
       "      <td>0.000000</td>\n",
       "      <td>0</td>\n",
       "      <td>3</td>\n",
       "    </tr>\n",
       "    <tr>\n",
       "      <th>2607</th>\n",
       "      <td>0</td>\n",
       "      <td>0</td>\n",
       "      <td>0.440860</td>\n",
       "      <td>0.280702</td>\n",
       "      <td>0.113636</td>\n",
       "      <td>0.152174</td>\n",
       "      <td>0.000000</td>\n",
       "      <td>0.142857</td>\n",
       "      <td>3</td>\n",
       "      <td>0</td>\n",
       "    </tr>\n",
       "    <tr>\n",
       "      <th>2732</th>\n",
       "      <td>1</td>\n",
       "      <td>0</td>\n",
       "      <td>0.354839</td>\n",
       "      <td>0.280702</td>\n",
       "      <td>0.090909</td>\n",
       "      <td>0.108696</td>\n",
       "      <td>0.285714</td>\n",
       "      <td>0.428571</td>\n",
       "      <td>0</td>\n",
       "      <td>7</td>\n",
       "    </tr>\n",
       "  </tbody>\n",
       "</table>\n",
       "<p>4828 rows × 10 columns</p>\n",
       "</div>"
      ],
      "text/plain": [
       "      Dep_Season  Acft_Typ_Cd   Adult F   Adult M   Child F   Child M  \\\n",
       "2979           1            0  0.397849  0.277193  0.000000  0.065217   \n",
       "2033           0            0  0.435484  0.375439  0.227273  0.195652   \n",
       "2215           0            0  0.569892  0.259649  0.250000  0.391304   \n",
       "2840           1            1  0.198925  0.368421  0.000000  0.000000   \n",
       "446            0            1  0.376344  0.207018  0.159091  0.260870   \n",
       "...          ...          ...       ...       ...       ...       ...   \n",
       "4931           1            0  0.731183  0.470175  0.204545  0.260870   \n",
       "3264           1            0  0.720430  0.421053  0.227273  0.086957   \n",
       "1653           0            1  0.252688  0.084211  0.136364  0.130435   \n",
       "2607           0            0  0.440860  0.280702  0.113636  0.152174   \n",
       "2732           1            0  0.354839  0.280702  0.090909  0.108696   \n",
       "\n",
       "      Infant F  Infant M  Dep_Apt_Cd  Arr_Apt_Cd  \n",
       "2979  0.000000  0.142857          11           0  \n",
       "2033  0.142857  0.142857           0           5  \n",
       "2215  0.142857  0.142857           3           0  \n",
       "2840  0.000000  0.000000           0           2  \n",
       "446   0.142857  0.000000           0           3  \n",
       "...        ...       ...         ...         ...  \n",
       "4931  0.142857  0.428571           0           1  \n",
       "3264  0.142857  0.000000          11           0  \n",
       "1653  0.000000  0.000000           0           3  \n",
       "2607  0.000000  0.142857           3           0  \n",
       "2732  0.285714  0.428571           0           7  \n",
       "\n",
       "[4828 rows x 10 columns]"
      ]
     },
     "execution_count": 8,
     "metadata": {},
     "output_type": "execute_result"
    }
   ],
   "source": [
    "x_train"
   ]
  },
  {
   "cell_type": "code",
   "execution_count": 3,
   "metadata": {},
   "outputs": [],
   "source": [
    "#dataset2 (Include Obd_Cbn_Cls_Cd)\n",
    "#read data from preprocessing\n",
    "data_2 = pd.read_csv('data_test_Cabin.csv')\n",
    "\n",
    "#save y min & max\n",
    "normal_y_2 = data_2['Bag_Wt_Msr']\n",
    "y_min_2 =  normal_y_2.min()\n",
    "y_max_2 = normal_y_2.max() \n",
    "\n",
    "#normalize\n",
    "normalize_2 = data_2[['Bag_Wt_Msr',  'Adult F C',\n",
    "       'Adult F K', 'Adult F Y', 'Adult M C', 'Adult M K', 'Adult M Y',\n",
    "       'Child F C', 'Child F K', 'Child F Y', 'Child M C', 'Child M K',\n",
    "       'Child M Y', 'Infant F C', 'Infant F K', 'Infant F Y', 'Infant M C',\n",
    "       'Infant M K', 'Infant M Y']]\n",
    "data_normalize_2 = data_2\n",
    "data_normalize_2[['Bag_Wt_Msr',  'Adult F C',\n",
    "       'Adult F K', 'Adult F Y', 'Adult M C', 'Adult M K', 'Adult M Y',\n",
    "       'Child F C', 'Child F K', 'Child F Y', 'Child M C', 'Child M K',\n",
    "       'Child M Y', 'Infant F C', 'Infant F K', 'Infant F Y', 'Infant M C',\n",
    "       'Infant M K', 'Infant M Y']] = (normalize_2 - normalize_2.min()) / (normalize_2.max() - normalize_2.min())\n",
    "tmp = data_normalize_2.pop('Bag_Wt_Msr')\n",
    "data_normalize_2['Bag_Wt_Msr'] = tmp\n",
    "\n",
    "# split data\n",
    "x_2, y_2 = data_normalize_2.iloc[:, 1:-1], data_normalize_2.iloc[:, -1]\n",
    "x_train_2, x_test_2, y_train_2, y_test_2 = train_test_split(x, y, test_size = 0.2, random_state = 0)"
   ]
  },
  {
   "cell_type": "code",
   "execution_count": 20,
   "metadata": {},
   "outputs": [],
   "source": [
    "def Base_model (act, opt, lr):\n",
    "    #training model\n",
    "    model = tf.keras.models.Sequential([\n",
    "        tf.keras.layers.Dense(64, activation = act),\n",
    "        tf.keras.layers.Dropout(0.2), #dropout每次訓練會丟掉100個input的其中20個，矯正過度擬合的現象\n",
    "        tf.keras.layers.Dense(10)\n",
    "    ])\n",
    "    \n",
    "    #mse均方誤差、mae平均絕對誤差、rmse均方根誤差\n",
    "    model.compile(optimizer = opt(learning_rate = lr),\n",
    "                  loss = tf.keras.metrics.mean_squared_error,\n",
    "                  metrics = 'mae')\n",
    "    \n",
    "    start = time.time()\n",
    "    history = model.fit(x_train.values, y_train.values, validation_split = 0.3, epochs = 150, batch_size = 16, verbose = 0)\n",
    "    #history = model.fit(x_train_2.values, y_train_2.values, validation_split = 0.33, epochs = 150, batch_size = 20, verbose = 0)\n",
    "    preds = model.predict(x_test)\n",
    "    #preds = model.predict(x_test_2)\n",
    "    loss_keys = list(history.history.keys())\n",
    "    print(\"Time:\", time.time() - start)\n",
    "    \n",
    "    model.summary()\n",
    "    \n",
    "    #plot\n",
    "    for i in range(0, 2):\n",
    "        plt.subplot(1, 2, i + 1)\n",
    "        plt.xlabel('Epoch')\n",
    "        plt.ylabel(loss_keys[i])\n",
    "        plt.plot(history.history[loss_keys[i]])\n",
    "        plt.plot(history.history[loss_keys[i + 2]])\n",
    "        \n",
    "    plt.subplots_adjust(left = 0.01, bottom = 0.01, right = 0.95, top = 0.5, wspace = 0.5, hspace = 0.4)\n",
    "    plt.legend(['train', 'test'], loc = 'upper right')\n",
    "    plt.show()\n",
    "    \n",
    "    #損失函數\n",
    "    model.evaluate(x_test, y_test)\n",
    "    #model.evaluate(x_test_2, y_test_2)\n",
    "    \n",
    "    #clean session\n",
    "    tf.keras.backend.clear_session()"
   ]
  },
  {
   "cell_type": "code",
   "execution_count": 21,
   "metadata": {},
   "outputs": [
    {
     "name": "stdout",
     "output_type": "stream",
     "text": [
      "Time: 40.67388725280762\n",
      "Model: \"sequential\"\n",
      "_________________________________________________________________\n",
      "Layer (type)                 Output Shape              Param #   \n",
      "=================================================================\n",
      "dense (Dense)                (None, 64)                704       \n",
      "_________________________________________________________________\n",
      "dropout (Dropout)            (None, 64)                0         \n",
      "_________________________________________________________________\n",
      "dense_1 (Dense)              (None, 10)                650       \n",
      "=================================================================\n",
      "Total params: 1,354\n",
      "Trainable params: 1,354\n",
      "Non-trainable params: 0\n",
      "_________________________________________________________________\n"
     ]
    },
    {
     "data": {
      "image/png": "[encoded data removed]",
      "text/plain": [
       "<Figure size 432x288 with 2 Axes>"
      ]
     },
     "metadata": {
      "needs_background": "light"
     },
     "output_type": "display_data"
    },
    {
     "name": "stdout",
     "output_type": "stream",
     "text": [
      "17/17 [==============================] - 0s 1ms/step - loss: 0.0074 - mae: 0.0661\n"
     ]
    }
   ],
   "source": [
    "#Activation relu\n",
    "Base_model('relu', tf.keras.optimizers.SGD, 0.05)"
   ]
  },
  {
   "cell_type": "code",
   "execution_count": null,
   "metadata": {},
   "outputs": [],
   "source": [
    "#Activation tanh\n",
    "Base_model('tanh', tf.keras.optimizers.SGD, 0.05)"
   ]
  },
  {
   "cell_type": "code",
   "execution_count": null,
   "metadata": {},
   "outputs": [],
   "source": [
    "#Activation softmax\n",
    "Base_model('softmax', tf.keras.optimizers.SGD, 0.05)"
   ]
  },
  {
   "cell_type": "code",
   "execution_count": null,
   "metadata": {},
   "outputs": [],
   "source": [
    "#Activation sigmoid\n",
    "Base_model('sigmoid', tf.keras.optimizers.SGD, 0.05)"
   ]
  },
  {
   "cell_type": "code",
   "execution_count": null,
   "metadata": {},
   "outputs": [],
   "source": [
    "#Activation softsign\n",
    "Base_model('softsign', tf.keras.optimizers.SGD, 0.05)"
   ]
  },
  {
   "cell_type": "code",
   "execution_count": null,
   "metadata": {},
   "outputs": [],
   "source": [
    "#Activation hard_sigmoid\n",
    "Base_model('hard_sigmoid', tf.keras.optimizers.SGD, 0.05)"
   ]
  },
  {
   "cell_type": "code",
   "execution_count": null,
   "metadata": {},
   "outputs": [],
   "source": [
    "#Activation selu\n",
    "Base_model('selu', tf.keras.optimizers.SGD, 0.05)"
   ]
  },
  {
   "cell_type": "code",
   "execution_count": null,
   "metadata": {},
   "outputs": [],
   "source": [
    "#Activation elu\n",
    "Base_model('elu', tf.keras.optimizers.SGD, 0.05)"
   ]
  },
  {
   "cell_type": "code",
   "execution_count": null,
   "metadata": {},
   "outputs": [],
   "source": [
    "#Optimizer SGD\n",
    "Base_model('relu', tf.keras.optimizers.SGD, 0.01)\n",
    "Base_model('relu', tf.keras.optimizers.SGD, 0.05)"
   ]
  },
  {
   "cell_type": "code",
   "execution_count": null,
   "metadata": {},
   "outputs": [],
   "source": [
    "#Optimizer RMSprop\n",
    "Base_model('relu', tf.keras.optimizers.RMSprop, 0.01)\n",
    "Base_model('relu', tf.keras.optimizers.RMSprop, 0.05)"
   ]
  },
  {
   "cell_type": "code",
   "execution_count": null,
   "metadata": {},
   "outputs": [],
   "source": [
    "#Optimizer Adadelta\n",
    "Base_model('relu', tf.keras.optimizers.Adadelta, 0.01)\n",
    "Base_model('relu', tf.keras.optimizers.Adadelta, 0.05)"
   ]
  },
  {
   "cell_type": "code",
   "execution_count": null,
   "metadata": {},
   "outputs": [],
   "source": [
    "#Optimizer Adamax\n",
    "Base_model('relu', tf.keras.optimizers.Adamax, 0.01)\n",
    "Base_model('relu', tf.keras.optimizers.Adamax, 0.05)"
   ]
  },
  {
   "cell_type": "code",
   "execution_count": null,
   "metadata": {},
   "outputs": [],
   "source": [
    "#Optimizer Nadam\n",
    "Base_model('relu', tf.keras.optimizers.Nadam, 0.01)\n",
    "Base_model('relu', tf.keras.optimizers.Nadam, 0.05)"
   ]
  },
  {
   "cell_type": "code",
   "execution_count": null,
   "metadata": {},
   "outputs": [],
   "source": [
    "#Optimizer Ftrl\n",
    "Base_model('relu', tf.keras.optimizers.Ftrl, 0.01)\n",
    "Base_model('relu', tf.keras.optimizers.Ftrl, 0.05)"
   ]
  },
  {
   "cell_type": "code",
   "execution_count": null,
   "metadata": {},
   "outputs": [],
   "source": []
  },
  {
   "cell_type": "code",
   "execution_count": null,
   "metadata": {},
   "outputs": [],
   "source": []
  }
 ],
 "metadata": {
  "kernelspec": {
   "display_name": "Python 3",
   "language": "python",
   "name": "python3"
  },
  "language_info": {
   "codemirror_mode": {
    "name": "ipython",
    "version": 3
   },
   "file_extension": ".py",
   "mimetype": "text/x-python",
   "name": "python",
   "nbconvert_exporter": "python",
   "pygments_lexer": "ipython3",
   "version": "3.8.6"
  }
 },
 "nbformat": 4,
 "nbformat_minor": 4
}
